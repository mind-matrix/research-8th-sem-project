{
  "nbformat": 4,
  "nbformat_minor": 0,
  "metadata": {
    "colab": {
      "name": "ANN Relation Classifier.ipynb",
      "provenance": [],
      "collapsed_sections": [],
      "authorship_tag": "ABX9TyMu3370Lfws611O9MZMrpCS",
      "include_colab_link": true
    },
    "kernelspec": {
      "name": "python3",
      "display_name": "Python 3"
    },
    "accelerator": "GPU"
  },
  "cells": [
    {
      "cell_type": "markdown",
      "metadata": {
        "id": "view-in-github",
        "colab_type": "text"
      },
      "source": [
        "<a href=\"https://colab.research.google.com/github/mind-matrix/research-8th-sem-project/blob/main/ANN_Relation_Classifier.ipynb\" target=\"_parent\"><img src=\"https://colab.research.google.com/assets/colab-badge.svg\" alt=\"Open In Colab\"/></a>"
      ]
    },
    {
      "cell_type": "code",
      "metadata": {
        "id": "ZUm3KC22iHQc",
        "colab": {
          "base_uri": "https://localhost:8080/"
        },
        "outputId": "bfdf139d-2d63-4fc9-d523-67bc79dfe346"
      },
      "source": [
        "!nvidia-smi"
      ],
      "execution_count": 1,
      "outputs": [
        {
          "output_type": "stream",
          "text": [
            "Thu Mar 11 22:27:30 2021       \n",
            "+-----------------------------------------------------------------------------+\n",
            "| NVIDIA-SMI 460.56       Driver Version: 460.32.03    CUDA Version: 11.2     |\n",
            "|-------------------------------+----------------------+----------------------+\n",
            "| GPU  Name        Persistence-M| Bus-Id        Disp.A | Volatile Uncorr. ECC |\n",
            "| Fan  Temp  Perf  Pwr:Usage/Cap|         Memory-Usage | GPU-Util  Compute M. |\n",
            "|                               |                      |               MIG M. |\n",
            "|===============================+======================+======================|\n",
            "|   0  Tesla T4            Off  | 00000000:00:04.0 Off |                    0 |\n",
            "| N/A   53C    P8    10W /  70W |      0MiB / 15109MiB |      0%      Default |\n",
            "|                               |                      |                  N/A |\n",
            "+-------------------------------+----------------------+----------------------+\n",
            "                                                                               \n",
            "+-----------------------------------------------------------------------------+\n",
            "| Processes:                                                                  |\n",
            "|  GPU   GI   CI        PID   Type   Process name                  GPU Memory |\n",
            "|        ID   ID                                                   Usage      |\n",
            "|=============================================================================|\n",
            "|  No running processes found                                                 |\n",
            "+-----------------------------------------------------------------------------+\n"
          ],
          "name": "stdout"
        }
      ]
    },
    {
      "cell_type": "code",
      "metadata": {
        "id": "kxSQNWL3k_jE"
      },
      "source": [
        "%%capture\r\n",
        "!pip install tensorflow\r\n",
        "!pip install tokenizers\r\n",
        "!pip install transformers\r\n",
        "!pip install numba"
      ],
      "execution_count": 2,
      "outputs": []
    },
    {
      "cell_type": "code",
      "metadata": {
        "id": "VBzNrp-fiPIA"
      },
      "source": [
        "import json\r\n",
        "import pandas as pd\r\n",
        "import numpy as np\r\n",
        "from pathlib import Path\r\n",
        "import tensorflow as tf\r\n",
        "import textwrap\r\n",
        "from google.colab import files\r\n",
        "import io\r\n",
        "from sklearn.model_selection import train_test_split\r\n",
        "from transformers import BertTokenizerFast\r\n",
        "from tqdm import tqdm\r\n",
        "from math import log2\r\n",
        "import os"
      ],
      "execution_count": 3,
      "outputs": []
    },
    {
      "cell_type": "code",
      "metadata": {
        "id": "WpqIc6IBiZB1"
      },
      "source": [
        "if os.path.exists(\"./dataset-annotated.csv\"):\r\n",
        "  df = pd.read_csv(\"./dataset-annotated.csv\")\r\n",
        "else:\r\n",
        "  uploads = files.upload()\r\n",
        "  df = pd.read_csv(io.BytesIO(list(uploads.values())[0]))"
      ],
      "execution_count": 4,
      "outputs": []
    },
    {
      "cell_type": "code",
      "metadata": {
        "id": "NKYzru3vUoXm"
      },
      "source": [
        "tokenizer = BertTokenizerFast.from_pretrained(\"bert-base-uncased\")"
      ],
      "execution_count": 5,
      "outputs": []
    },
    {
      "cell_type": "code",
      "metadata": {
        "id": "T9AaPQEaiRob"
      },
      "source": [
        "N = 200 # max input sequence length\r\n",
        "T = 98 # num labels"
      ],
      "execution_count": 6,
      "outputs": []
    },
    {
      "cell_type": "code",
      "metadata": {
        "colab": {
          "base_uri": "https://localhost:8080/",
          "height": 249
        },
        "id": "VmyPqcngVcIB",
        "outputId": "204325c8-2e0b-4d43-edaf-5562969b3220"
      },
      "source": [
        "flatten = lambda t: [item for sublist in t for item in sublist]\r\n",
        "\r\n",
        "with tqdm(total=len(df.index)) as pbar:\r\n",
        "  def encode_input(row):\r\n",
        "    pbar.update(1)\r\n",
        "    context = row['context'].replace(row['h'], \"\").replace(row['t'], \"\")\r\n",
        "    encoding = tokenizer.encode(context)\r\n",
        "    padded_encoding = [0]*N\r\n",
        "    l = len(encoding)\r\n",
        "    padded_encoding[0:min(N,l)] = encoding[0:min(N,l)]\r\n",
        "    return padded_encoding\r\n",
        "\r\n",
        "df['input'] = df.apply(encode_input, axis=1)\r\n",
        "df['label'] = df['target'].apply(lambda x: [ 1 if i == x else 0 for i in range(0, T) ])\r\n",
        "df = df[['input', 'label']]\r\n",
        "df.head()"
      ],
      "execution_count": 7,
      "outputs": [
        {
          "output_type": "stream",
          "text": [
            "  0%|          | 0/12323 [00:00<?, ?it/s]\n",
            "Token indices sequence length is longer than the specified maximum sequence length for this model (514 > 512). Running this sequence through the model will result in indexing errors\n"
          ],
          "name": "stderr"
        },
        {
          "output_type": "execute_result",
          "data": {
            "text/html": [
              "<div>\n",
              "<style scoped>\n",
              "    .dataframe tbody tr th:only-of-type {\n",
              "        vertical-align: middle;\n",
              "    }\n",
              "\n",
              "    .dataframe tbody tr th {\n",
              "        vertical-align: top;\n",
              "    }\n",
              "\n",
              "    .dataframe thead th {\n",
              "        text-align: right;\n",
              "    }\n",
              "</style>\n",
              "<table border=\"1\" class=\"dataframe\">\n",
              "  <thead>\n",
              "    <tr style=\"text-align: right;\">\n",
              "      <th></th>\n",
              "      <th>input</th>\n",
              "      <th>label</th>\n",
              "    </tr>\n",
              "  </thead>\n",
              "  <tbody>\n",
              "    <tr>\n",
              "      <th>0</th>\n",
              "      <td>[101, 23404, 2486, 2001, 2019, 4195, 2511, 199...</td>\n",
              "      <td>[0, 0, 0, 0, 0, 0, 0, 0, 0, 0, 0, 0, 0, 0, 0, ...</td>\n",
              "    </tr>\n",
              "    <tr>\n",
              "      <th>1</th>\n",
              "      <td>[101, 23404, 2486, 2001, 2019, 4195, 2511, 199...</td>\n",
              "      <td>[0, 1, 0, 0, 0, 0, 0, 0, 0, 0, 0, 0, 0, 0, 0, ...</td>\n",
              "    </tr>\n",
              "    <tr>\n",
              "      <th>2</th>\n",
              "      <td>[101, 23404, 2486, 2001, 2019, 4195, 2511, 199...</td>\n",
              "      <td>[0, 0, 0, 0, 0, 0, 0, 0, 0, 0, 0, 0, 0, 0, 0, ...</td>\n",
              "    </tr>\n",
              "    <tr>\n",
              "      <th>3</th>\n",
              "      <td>[101, 23404, 2486, 2001, 2019, 2827, 2390, 419...</td>\n",
              "      <td>[0, 0, 0, 0, 0, 0, 0, 0, 0, 0, 0, 0, 0, 0, 0, ...</td>\n",
              "    </tr>\n",
              "    <tr>\n",
              "      <th>4</th>\n",
              "      <td>[101, 23404, 2486, 2001, 2019, 1050, 2390, 419...</td>\n",
              "      <td>[0, 0, 0, 1, 0, 0, 0, 0, 0, 0, 0, 0, 0, 0, 0, ...</td>\n",
              "    </tr>\n",
              "  </tbody>\n",
              "</table>\n",
              "</div>"
            ],
            "text/plain": [
              "                                               input                                              label\n",
              "0  [101, 23404, 2486, 2001, 2019, 4195, 2511, 199...  [0, 0, 0, 0, 0, 0, 0, 0, 0, 0, 0, 0, 0, 0, 0, ...\n",
              "1  [101, 23404, 2486, 2001, 2019, 4195, 2511, 199...  [0, 1, 0, 0, 0, 0, 0, 0, 0, 0, 0, 0, 0, 0, 0, ...\n",
              "2  [101, 23404, 2486, 2001, 2019, 4195, 2511, 199...  [0, 0, 0, 0, 0, 0, 0, 0, 0, 0, 0, 0, 0, 0, 0, ...\n",
              "3  [101, 23404, 2486, 2001, 2019, 2827, 2390, 419...  [0, 0, 0, 0, 0, 0, 0, 0, 0, 0, 0, 0, 0, 0, 0, ...\n",
              "4  [101, 23404, 2486, 2001, 2019, 1050, 2390, 419...  [0, 0, 0, 1, 0, 0, 0, 0, 0, 0, 0, 0, 0, 0, 0, ..."
            ]
          },
          "metadata": {
            "tags": []
          },
          "execution_count": 7
        }
      ]
    },
    {
      "cell_type": "code",
      "metadata": {
        "id": "WGq9E4peVdZ5"
      },
      "source": [
        "X = df['input'].to_list()\r\n",
        "Y = df['label'].to_list()\r\n",
        "train_X, test_X, train_y, test_y = train_test_split(X, Y, test_size=0.2)"
      ],
      "execution_count": 8,
      "outputs": []
    },
    {
      "cell_type": "code",
      "metadata": {
        "id": "-4ehCQFDzlrQ"
      },
      "source": [
        "def create_model(N, T=T):\r\n",
        "  model = tf.keras.Sequential([\r\n",
        "      tf.keras.layers.Input(shape=(N)),\r\n",
        "      *[ tf.keras.layers.Dense(max(N/(2**i), T)) for i in range(0, int(log2(N/T))) ],\r\n",
        "      tf.keras.layers.Dense(T, activation='sigmoid')\r\n",
        "  ])\r\n",
        "\r\n",
        "  model.compile(optimizer='adam', loss=tf.keras.losses.CategoricalCrossentropy(from_logits=True), metrics=['accuracy'])\r\n",
        "  \r\n",
        "  return model"
      ],
      "execution_count": 9,
      "outputs": []
    },
    {
      "cell_type": "code",
      "metadata": {
        "id": "CRWFhWV0htwC"
      },
      "source": [
        "from tensorflow.keras import backend as K\r\n",
        "from numba import cuda\r\n",
        "K.clear_session()\r\n",
        "cuda.select_device(0)\r\n",
        "cuda.close()"
      ],
      "execution_count": 10,
      "outputs": []
    },
    {
      "cell_type": "code",
      "metadata": {
        "id": "XDsV5V0IRN8p"
      },
      "source": [
        "model = create_model(N)"
      ],
      "execution_count": 11,
      "outputs": []
    },
    {
      "cell_type": "code",
      "metadata": {
        "colab": {
          "base_uri": "https://localhost:8080/",
          "height": 213
        },
        "id": "llozylW9RoZ4",
        "outputId": "b2196cb2-b10b-4ec5-b4df-df54c648102a"
      },
      "source": [
        "tf.keras.utils.plot_model(model, dpi=64, show_shapes=True, expand_nested=True)"
      ],
      "execution_count": 12,
      "outputs": [
        {
          "output_type": "execute_result",
          "data": {
            "image/png": "[encoded data removed]",
            "text/plain": [
              "<IPython.core.display.Image object>"
            ]
          },
          "metadata": {
            "tags": []
          },
          "execution_count": 12
        }
      ]
    },
    {
      "cell_type": "code",
      "metadata": {
        "colab": {
          "base_uri": "https://localhost:8080/"
        },
        "id": "CRyIhJmVkUs5",
        "outputId": "a5edc17b-2459-47ac-f6a3-e7a3e891f65e"
      },
      "source": [
        "tf.config.experimental_run_functions_eagerly(True)\r\n",
        "model.fit(train_X, train_y, validation_data=(test_X, test_y), epochs=10, batch_size=16)"
      ],
      "execution_count": 13,
      "outputs": [
        {
          "output_type": "stream",
          "text": [
            "WARNING:tensorflow:From <ipython-input-13-bc2e72683b75>:1: experimental_run_functions_eagerly (from tensorflow.python.eager.def_function) is deprecated and will be removed in a future version.\n",
            "Instructions for updating:\n",
            "Use `tf.config.run_functions_eagerly` instead of the experimental version.\n"
          ],
          "name": "stdout"
        },
        {
          "output_type": "stream",
          "text": [
            "/usr/local/lib/python3.7/dist-packages/tensorflow/python/data/ops/dataset_ops.py:3504: UserWarning: Even though the tf.config.experimental_run_functions_eagerly option is set, this option does not apply to tf.data functions. tf.data functions are still traced and executed as graphs.\n",
            "  \"Even though the tf.config.experimental_run_functions_eagerly \"\n"
          ],
          "name": "stderr"
        },
        {
          "output_type": "stream",
          "text": [
            "Epoch 1/10\n",
            "617/617 [==============================] - 10s 16ms/step - loss: 9020.7980 - accuracy: 0.1896 - val_loss: 4310.4751 - val_accuracy: 0.2154\n",
            "Epoch 2/10\n",
            "617/617 [==============================] - 7s 12ms/step - loss: 3534.3346 - accuracy: 0.1987 - val_loss: 3298.5713 - val_accuracy: 0.2130\n",
            "Epoch 3/10\n",
            "617/617 [==============================] - 8s 12ms/step - loss: 2489.2605 - accuracy: 0.2133 - val_loss: 2960.1819 - val_accuracy: 0.2268\n",
            "Epoch 4/10\n",
            "617/617 [==============================] - 7s 12ms/step - loss: 2069.6901 - accuracy: 0.2049 - val_loss: 2553.5432 - val_accuracy: 0.2389\n",
            "Epoch 5/10\n",
            "617/617 [==============================] - 7s 12ms/step - loss: 1722.7660 - accuracy: 0.2208 - val_loss: 2270.2656 - val_accuracy: 0.2402\n",
            "Epoch 6/10\n",
            "617/617 [==============================] - 7s 12ms/step - loss: 1448.7235 - accuracy: 0.2223 - val_loss: 2074.7278 - val_accuracy: 0.2357\n",
            "Epoch 7/10\n",
            "617/617 [==============================] - 8s 12ms/step - loss: 1333.9396 - accuracy: 0.2243 - val_loss: 1840.3093 - val_accuracy: 0.2345\n",
            "Epoch 8/10\n",
            "617/617 [==============================] - 8s 12ms/step - loss: 1230.9105 - accuracy: 0.2267 - val_loss: 1691.5970 - val_accuracy: 0.2418\n",
            "Epoch 9/10\n",
            "617/617 [==============================] - 8s 12ms/step - loss: 1073.1549 - accuracy: 0.2224 - val_loss: 1536.1862 - val_accuracy: 0.2406\n",
            "Epoch 10/10\n",
            "617/617 [==============================] - 8s 12ms/step - loss: 975.8440 - accuracy: 0.2332 - val_loss: 1285.1907 - val_accuracy: 0.2414\n"
          ],
          "name": "stdout"
        },
        {
          "output_type": "execute_result",
          "data": {
            "text/plain": [
              "<tensorflow.python.keras.callbacks.History at 0x7f6fc00592d0>"
            ]
          },
          "metadata": {
            "tags": []
          },
          "execution_count": 13
        }
      ]
    }
  ]
}